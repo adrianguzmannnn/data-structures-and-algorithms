{
 "cells": [
  {
   "cell_type": "markdown",
   "metadata": {},
   "source": [
    "# Algorithms and Data Structures in Python"
   ]
  },
  {
   "cell_type": "markdown",
   "metadata": {},
   "source": [
    "## Algorithm Characteristics\n",
    "\n",
    "- Algorithm Complexity\n",
    "    - Space complexity: How much memory does it require?\n",
    "    - Time complexity: How much time does it take to complete?\n",
    "- Inputs and Outputs\n",
    "    - What does the algorithm accept and what are the results?\n",
    "- Classification\n",
    "    - Serial/parallel, exact/approximate, deterministic/non-deterministic"
   ]
  },
  {
   "cell_type": "markdown",
   "metadata": {},
   "source": [
    "Common algorithms: __search, sorting, computational, collection__"
   ]
  },
  {
   "cell_type": "markdown",
   "metadata": {},
   "source": [
    "Example: Euclid's Algorithm -- Find the greatest common denominator of two integers. (i.e. the greatest common denominator for 20 and 8 is 4).\n",
    "\n",
    "1. For two integers *a* and *b*, where *a* > *b*, divide *a* by *b*\n",
    "2. If the remainder, *r*, is 0, then stop: g.c.d is *b*\n",
    "3. Otherwise, set *a* to *b*, *b* to *r*, and repeat step 1 until *r* is 0"
   ]
  },
  {
   "cell_type": "markdown",
   "metadata": {},
   "source": [
    "```python\n",
    "def compute_greatest_common_denominator(a, b):\n",
    "    while b != 0:\n",
    "        temp = a\n",
    "        a = b\n",
    "        b = temp % b\n",
    "    \n",
    "    return a\n",
    "```"
   ]
  },
  {
   "cell_type": "markdown",
   "metadata": {},
   "source": [
    "Understanding Algorithm Performance\n",
    "\n",
    "- Measure how an algorithm responds to a dataset\n",
    "- Big-O notation\n",
    "    - Classifies performance as input size grows\n",
    "    - \"O\" indicates the *order of operation*: time scale to perform an operation"
   ]
  },
  {
   "cell_type": "markdown",
   "metadata": {},
   "source": [
    "![](big-o-notation.png)"
   ]
  },
  {
   "cell_type": "markdown",
   "metadata": {},
   "source": [
    "## Data Structures"
   ]
  },
  {
   "cell_type": "markdown",
   "metadata": {},
   "source": [
    "### Arrays"
   ]
  },
  {
   "cell_type": "markdown",
   "metadata": {},
   "source": [
    "An __array__ is a collection of elements identified by index or key. Elements in an array can be accessed directly using __random access fashion__. One can directly access an element using a calculated index without having to traverse the entire structure.\n",
    "\n",
    "Operations on arrays:\n",
    "- Calculate item index: O(1)\n",
    "- Insert or delete item at the beginning: O(n)\n",
    "- Insert or delete item in the middle: O(n)\n",
    "- Insert or delete item at the end: O(1)"
   ]
  },
  {
   "cell_type": "markdown",
   "metadata": {},
   "source": [
    "### Linked Lists"
   ]
  },
  {
   "cell_type": "markdown",
   "metadata": {},
   "source": [
    "![](linked-list.png)"
   ]
  },
  {
   "cell_type": "markdown",
   "metadata": {},
   "source": [
    "![](linked-list-cont.png)"
   ]
  },
  {
   "cell_type": "markdown",
   "metadata": {},
   "source": [
    "In order to insert a new node at the beginning, it must point to the current __head__ of the list as its next node, and then the head pointer is moved to point to the new node. In addition, it order to remove an item from the list, the pointer that it receives from the previous node must be changed to a new node and the item can be safely removed."
   ]
  },
  {
   "cell_type": "markdown",
   "metadata": {},
   "source": [
    "An example __Node__ class."
   ]
  },
  {
   "cell_type": "markdown",
   "metadata": {},
   "source": [
    "```python\n",
    "class Node(object):\n",
    "    def __init__(self, val):\n",
    "        self.val = val\n",
    "        self.next = None\n",
    "\n",
    "    def get_data(self):\n",
    "        return self.val\n",
    "\n",
    "    def set_data(self, val):\n",
    "        self.val = val\n",
    "\n",
    "    def get_next(self):\n",
    "        return self.next\n",
    "\n",
    "    def set_next(self, next):\n",
    "        self.next = next\n",
    "```"
   ]
  },
  {
   "cell_type": "markdown",
   "metadata": {},
   "source": [
    "An example __LinkedList__ class."
   ]
  },
  {
   "cell_type": "markdown",
   "metadata": {},
   "source": [
    "```python\n",
    "class LinkedList(object):\n",
    "    def __init__(self, head=None):\n",
    "        self.head = head\n",
    "        self.count = 0\n",
    "\n",
    "    def get_count(self):\n",
    "        return self.count\n",
    "\n",
    "    def insert(self, data):\n",
    "        new_node = Node(data)\n",
    "        new_node.set_next(self.head)\n",
    "        self.head = new_node\n",
    "        self.count += 1\n",
    "\n",
    "    def find(self, val):\n",
    "        item = self.head\n",
    "        while (item != None):\n",
    "            if item.get_data() == val:\n",
    "                return item\n",
    "            else:\n",
    "                item = item.get_next()\n",
    "        return None\n",
    "\n",
    "    def deleteAt(self, idx):\n",
    "        if idx > self.count:\n",
    "            return\n",
    "        if self.head == None:\n",
    "            return\n",
    "        else:\n",
    "            tempIdx = 0\n",
    "            node = self.head\n",
    "            while tempIdx < idx-1:\n",
    "                node = node.get_next()\n",
    "                tempIdx += 1\n",
    "            node.set_next(node.get_next().get_next())\n",
    "            self.count -= 1\n",
    "\n",
    "    def dump_list(self):\n",
    "        tempnode = self.head\n",
    "        while (tempnode != None):\n",
    "            print(\"Node: \", tempnode.get_data())\n",
    "            tempnode = tempnode.get_next()\n",
    "```"
   ]
  },
  {
   "cell_type": "markdown",
   "metadata": {},
   "source": [
    "### Stacks and Queues"
   ]
  },
  {
   "cell_type": "markdown",
   "metadata": {},
   "source": [
    "#### Stack (O(1) operations)\n",
    "\n",
    "- Backtracking (brower back stack\n",
    "- Expression processing\n",
    "- Natively supported in Python using the `list().append()` and `list().pop()` methods"
   ]
  },
  {
   "cell_type": "markdown",
   "metadata": {},
   "source": [
    "![](stack.png)"
   ]
  },
  {
   "cell_type": "markdown",
   "metadata": {},
   "source": [
    "#### Queue (O(1) operations)\n",
    "\n",
    "- Order processing\n",
    "- Message processing"
   ]
  },
  {
   "cell_type": "markdown",
   "metadata": {},
   "source": [
    "![](queue.png)"
   ]
  },
  {
   "cell_type": "markdown",
   "metadata": {},
   "source": [
    "```python\n",
    "\n",
    "# A deque is optimized for adding and removing items from both ends of the collection.\n",
    "from collections import deque\n",
    "\n",
    "queue = deque()\n",
    "\n",
    "# Add items.\n",
    "queue.append(1)\n",
    "queue.append(2)\n",
    "\n",
    "# Pop an item off the front of the queue.\n",
    "x = queue.popleft()\n",
    "```"
   ]
  },
  {
   "cell_type": "markdown",
   "metadata": {},
   "source": [
    "#### Hash Tables (Dictionaries lol)\n",
    "\n",
    "- Associative array (key: value pairs)\n",
    "- Key-value mappings are unique\n",
    "- Hash tables are typically fast\n",
    "- For small datasets, arrays are typically more efficient\n",
    "- Hash tables don't order entries in a particular way"
   ]
  },
  {
   "cell_type": "markdown",
   "metadata": {},
   "source": [
    "```python\n",
    "example1 = dict(key1=1, key2=2)\n",
    "\n",
    "example2 = {}\n",
    "example2[\"key1\"] = 1\n",
    "example2[\"key2\"] = 2\n",
    "```"
   ]
  },
  {
   "cell_type": "markdown",
   "metadata": {},
   "source": [
    "## Recursion"
   ]
  },
  {
   "cell_type": "markdown",
   "metadata": {},
   "source": [
    "- Recursive functions need to have a breaking condition (prevents infinite loops and eventual crashes)\n",
    "- Each time the function is called, the old arguments are saved (this is called the __call stack__)"
   ]
  },
  {
   "cell_type": "markdown",
   "metadata": {},
   "source": [
    "```python\n",
    "def countdown(x):\n",
    "    if x == 0:\n",
    "        print(\"Done!\")\n",
    "        return\n",
    "    else:\n",
    "        print(x, \"...\")\n",
    "        countdown(x - 1)\n",
    "```"
   ]
  },
  {
   "cell_type": "markdown",
   "metadata": {},
   "source": [
    "```python\n",
    "def compute_power(number, power):\n",
    "    if power == 0:\n",
    "        return 1\n",
    "    else:\n",
    "        return number * compute_power(number, power - 1)\n",
    "```"
   ]
  },
  {
   "cell_type": "markdown",
   "metadata": {},
   "source": [
    "```python\n",
    "def factorial(number):\n",
    "    if (number == 0):\n",
    "        return 1\n",
    "    else:\n",
    "        return number * factorial(number - 1)\n",
    "```"
   ]
  }
 ],
 "metadata": {
  "kernelspec": {
   "display_name": "Python 3",
   "language": "python",
   "name": "python3"
  },
  "language_info": {
   "codemirror_mode": {
    "name": "ipython",
    "version": 3
   },
   "file_extension": ".py",
   "mimetype": "text/x-python",
   "name": "python",
   "nbconvert_exporter": "python",
   "pygments_lexer": "ipython3",
   "version": "3.7.3"
  }
 },
 "nbformat": 4,
 "nbformat_minor": 2
}
