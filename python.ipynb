{
 "cells": [
  {
   "cell_type": "markdown",
   "metadata": {},
   "source": [
    "# Algorithms and Data Structures in Python"
   ]
  },
  {
   "cell_type": "markdown",
   "metadata": {},
   "source": [
    "## Algorithm Characteristics\n",
    "\n",
    "- Algorithm Complexity\n",
    "    - Space complexity: How much memory does it require?\n",
    "    - Time complexity: How much time does it take to complete?\n",
    "- Inputs and Outputs\n",
    "    - What does the algorithm accept and what are the results?\n",
    "- Classification\n",
    "    - Serial/parallel, exact/approximate, deterministic/non-deterministic"
   ]
  },
  {
   "cell_type": "markdown",
   "metadata": {},
   "source": [
    "Common algorithms: __search, sorting, computational, collection__"
   ]
  },
  {
   "cell_type": "markdown",
   "metadata": {},
   "source": [
    "Example: Euclid's Algorithm -- Find the greatest common denominator of two integers. (i.e. the greatest common denominator for 20 and 8 is 4).\n",
    "\n",
    "1. For two integers *a* and *b*, where *a* > *b*, divide *a* by *b*\n",
    "2. If the remainder, *r*, is 0, then stop: g.c.d is *b*\n",
    "3. Otherwise, set *a* to *b*, *b* to *r*, and repeat step 1 until *r* is 0"
   ]
  },
  {
   "cell_type": "markdown",
   "metadata": {},
   "source": [
    "```python\n",
    "def compute_greatest_common_denominator(a, b):\n",
    "    while b != 0:\n",
    "        temp = a\n",
    "        a = b\n",
    "        b = temp % b\n",
    "    \n",
    "    return a\n",
    "\n",
    "def compute_greatest_common_denominator(a, b):\n",
    "    r = a % b\n",
    "    if r == 0:\n",
    "        print(b)\n",
    "        return\n",
    "    else:\n",
    "        compute_greatest_common_denominator(b, r)\n",
    "```"
   ]
  },
  {
   "cell_type": "markdown",
   "metadata": {},
   "source": [
    "Understanding Algorithm Performance\n",
    "\n",
    "- Measure how an algorithm responds to a dataset\n",
    "- Big-O notation\n",
    "    - Classifies performance as input size grows\n",
    "    - \"O\" indicates the *order of operation*: time scale to perform an operation"
   ]
  },
  {
   "cell_type": "markdown",
   "metadata": {},
   "source": [
    "![](images/big-o-notation.png)"
   ]
  },
  {
   "cell_type": "markdown",
   "metadata": {},
   "source": [
    "## Data Structures"
   ]
  },
  {
   "cell_type": "markdown",
   "metadata": {},
   "source": [
    "A boolean is 1 bit and a double is 64 bits regarding the value the variable holds."
   ]
  },
  {
   "cell_type": "markdown",
   "metadata": {},
   "source": [
    "Data structures are *reference types* that point to *primitive types* in implementations (implementation of pointers). In C++, you have to manage pointers, memory, and data. This is handled under the hood in Python and Java."
   ]
  },
  {
   "cell_type": "markdown",
   "metadata": {},
   "source": [
    "General data structure operations: access, update, search, delete, insert."
   ]
  },
  {
   "cell_type": "markdown",
   "metadata": {},
   "source": [
    "### Arrays"
   ]
  },
  {
   "cell_type": "markdown",
   "metadata": {},
   "source": [
    "If one plans to insert once and access a lot, arrays are a good choice."
   ]
  },
  {
   "cell_type": "markdown",
   "metadata": {},
   "source": [
    "Python lists are equivalent to JavaScript arrays. Java and C++ does not allow arrays to be resized, however one can use the *ArrayList* for Java if they need this functionality."
   ]
  },
  {
   "cell_type": "markdown",
   "metadata": {},
   "source": [
    "To search an unsorted array, one must loop through every element in the array using a *for loop*. This takes O(n) -- linear search which is linear time. Sorting arrays before performing searches might be beneficial if one is to perform multiple searches on the array."
   ]
  },
  {
   "cell_type": "markdown",
   "metadata": {},
   "source": [
    "An __array__ is a collection of elements identified by index or key. Elements in an array can be accessed directly using __random access fashion__. One can directly access an element using a calculated index without having to traverse the entire structure.\n",
    "\n",
    "Operations on arrays: access, update, insert, search, delete, sort\n",
    "- Access an item using an index: O(1) - constant time\n",
    "- Update an item using an index: O(1) - constant time\n",
    "- Delete an item using an index: O(1) - constant time\n",
    "- Insert or delete item at the beginning: O(n)\n",
    "- Insert or delete item in the middle: O(n)\n",
    "- Insert or delete item at the end: O(1)"
   ]
  },
  {
   "cell_type": "markdown",
   "metadata": {},
   "source": [
    "### Linked Lists"
   ]
  },
  {
   "cell_type": "markdown",
   "metadata": {},
   "source": [
    "Similar to an array, a linked list is linear/flat, but the elements are not stored at contiguous locations. The elements are instead linked using pointers (holds an address to a memory location). A linked list is made up of nodes that contain data and a pointer to the next node in line. The first element in the list is called the head.\n",
    "\n",
    "- Adding items at the beginning: O(1) -- change the head and pointers \n",
    "- Accessing/searching/updating/inserting items: O(n) -- traverse list until you find the item (O(1) for the head)\n",
    "\n",
    "We lack the ability to index into the structure. Really, operations depend on whether you are interfacing with the first element or every other element.\n",
    "\n",
    "Merge sort is typically preferred for sorting linked lists b/c they have slow random access performance."
   ]
  },
  {
   "cell_type": "markdown",
   "metadata": {},
   "source": [
    "![](images/linked-list.png)"
   ]
  },
  {
   "cell_type": "markdown",
   "metadata": {},
   "source": [
    "![](images/linked-list-cont.png)"
   ]
  },
  {
   "cell_type": "markdown",
   "metadata": {},
   "source": [
    "In order to insert a new node at the beginning, it must point to the current __head__ of the list as its next node, and then the head pointer is moved to point to the new node. In addition, in order to remove an item from the list, the pointer that it receives from the previous node must be changed to a new node and the item can be safely removed."
   ]
  },
  {
   "cell_type": "markdown",
   "metadata": {},
   "source": [
    "An example __Node__ class."
   ]
  },
  {
   "cell_type": "markdown",
   "metadata": {},
   "source": [
    "```python\n",
    "class Node(object):\n",
    "    \n",
    "    def __init__(self, val):\n",
    "        self.val = val\n",
    "        self.next = None\n",
    "\n",
    "    def get_data(self):\n",
    "        return self.val\n",
    "\n",
    "    def set_data(self, val):\n",
    "        self.val = val\n",
    "\n",
    "    def get_next(self):\n",
    "        return self.next\n",
    "\n",
    "    def set_next(self, n):\n",
    "        self.next = n\n",
    "```"
   ]
  },
  {
   "cell_type": "markdown",
   "metadata": {},
   "source": [
    "An example __LinkedList__ class."
   ]
  },
  {
   "cell_type": "markdown",
   "metadata": {},
   "source": [
    "```python\n",
    "class LinkedList(object):\n",
    "    \n",
    "    def __init__(self, head=None):\n",
    "        self.head = head\n",
    "        self.count = 0\n",
    "\n",
    "    def get_count(self):\n",
    "        return self.count\n",
    "\n",
    "    def insert(self, data):\n",
    "        new_node = Node(data)\n",
    "        new_node.set_next(self.head)\n",
    "        self.head = new_node\n",
    "        self.count += 1\n",
    "\n",
    "    def find(self, val):\n",
    "        item = self.head\n",
    "        while (item != None):\n",
    "            if item.get_data() == val:\n",
    "                return item\n",
    "            else:\n",
    "                item = item.get_next()\n",
    "        return None\n",
    "\n",
    "    def delete_at(self, idx):\n",
    "        if idx > self.count:\n",
    "            return\n",
    "        if self.head == None:\n",
    "            return\n",
    "        else:\n",
    "            tempIdx = 0\n",
    "            node = self.head\n",
    "            while tempIdx < idx-1:\n",
    "                node = node.get_next()\n",
    "                tempIdx += 1\n",
    "            node.set_next(node.get_next().get_next())\n",
    "            self.count -= 1\n",
    "\n",
    "    def dump_list(self):\n",
    "        tempnode = self.head\n",
    "        while (tempnode != None):\n",
    "            print(\"Node: \", tempnode.get_data())\n",
    "            tempnode = tempnode.get_next()\n",
    "```"
   ]
  },
  {
   "cell_type": "markdown",
   "metadata": {},
   "source": [
    "### Stacks and Queues"
   ]
  },
  {
   "cell_type": "markdown",
   "metadata": {},
   "source": [
    "#### Stack (like pancakes) LIFO\n",
    "\n",
    "- Backtracking (browser back stack)\n",
    "- Keeping track of state or order in which things have occurred - like the Python traceback stack\n",
    "- Expression processing\n",
    "- You can only add and remove from the top\n",
    "- Indexing in stacks is not possible (you can only pick out the last item in the stack - like a deck of cards)\n",
    "- Natively supported in Python using the `list().append()` and `list().pop()` methods\n",
    "- Can access the last item w/o removing it"
   ]
  },
  {
   "cell_type": "markdown",
   "metadata": {},
   "source": [
    "```python\n",
    "class Stack:\n",
    "    \n",
    "    def __init__(self):\n",
    "        self.stack = []\n",
    "        \n",
    "    def push(self, item):\n",
    "        self.stack.append(item)\n",
    "        \n",
    "    def pop(self):\n",
    "        return self.stack.pop()\n",
    "    \n",
    "    def peek(self):\n",
    "        return self.stack[-1]\n",
    "    \n",
    "    def is_empty(self):\n",
    "        return not self.stack\n",
    "    \n",
    "    def size(self):\n",
    "        return len(self.stack)\n",
    "    \n",
    "    def __str__(self):\n",
    "        return str(self.stack)\n",
    "```"
   ]
  },
  {
   "cell_type": "markdown",
   "metadata": {},
   "source": [
    "```python\n",
    "string = \"nairdA\"\n",
    "stack = Stack()\n",
    "reverse_string = \"\"\n",
    "\n",
    "for char in string:\n",
    "    stack.push(char)\n",
    "while not stack.is_empty():\n",
    "    reverse_string += stack.pop()\n",
    "```"
   ]
  },
  {
   "cell_type": "markdown",
   "metadata": {},
   "source": [
    "![](images/stack.png)"
   ]
  },
  {
   "cell_type": "markdown",
   "metadata": {},
   "source": [
    "#### Queue (line in amusement park, line in store, paper printer) FIFO\n",
    "\n",
    "- Order processing\n",
    "- Message processing\n",
    "- Designed to have items added to the end and items removed from the beginning\n",
    "- Can access the first item w/o removing it\n",
    "- See also *priority queue* "
   ]
  },
  {
   "cell_type": "markdown",
   "metadata": {},
   "source": [
    "![](images/queue.png)"
   ]
  },
  {
   "cell_type": "markdown",
   "metadata": {},
   "source": [
    "```python\n",
    "\n",
    "# A deque is optimized for adding and removing items from both ends of the collection.\n",
    "# \"double ended queue\" -- a stack and a queue\n",
    "from collections import deque\n",
    "\n",
    "queue = deque()\n",
    "\n",
    "# Add items.\n",
    "queue.append(1)\n",
    "queue.append(2)\n",
    "\n",
    "# Pop an item off the front of the queue.\n",
    "x = queue.popleft()\n",
    "\n",
    "class Queue:\n",
    "    \n",
    "    def __init__(self):\n",
    "        self.items = deque()\n",
    "\n",
    "    def is_empty(self):\n",
    "        return not self.items\n",
    "        # return len(self.items) == 0\n",
    "\n",
    "    def enqueue(self, item):\n",
    "        self.items.append(item)\n",
    "\n",
    "    def dequeue(self):\n",
    "        return self.items.popleft()\n",
    "\n",
    "    def size(self):\n",
    "        return len(self.items)\n",
    "\n",
    "    def peek(self):\n",
    "        return self.items[0]\n",
    "\n",
    "    def __str__(self):\n",
    "        return str(self.items)\n",
    "```"
   ]
  },
  {
   "cell_type": "markdown",
   "metadata": {},
   "source": [
    "#### Priority Queue"
   ]
  },
  {
   "cell_type": "markdown",
   "metadata": {},
   "source": [
    "```python\n",
    "class PriorityQueue:\n",
    "    \n",
    "    def __init__(self):\n",
    "        self.elements = []\n",
    "\n",
    "    def is_empty(self):\n",
    "        return not self.elements\n",
    "\n",
    "    def put(self, item, priority):\n",
    "        heapq.heappush(self.elements, (priority, item))\n",
    "\n",
    "    def get(self):\n",
    "        return heapq.heappop(self.elements)[1]\n",
    "\n",
    "    def __str__(self):\n",
    "        return str(self.elements)\n",
    "```"
   ]
  },
  {
   "cell_type": "markdown",
   "metadata": {},
   "source": [
    "#### Hash Tables (Dictionaries lol)\n",
    "\n",
    "- Associative array (key: value pairs)\n",
    "- Key-value mappings are unique\n",
    "- Hash tables are typically fast\n",
    "- For small datasets, arrays are typically more efficient\n",
    "- Hash tables don't order entries in a particular way\n",
    "- O(1) -> search, insertion, deletion"
   ]
  },
  {
   "cell_type": "markdown",
   "metadata": {},
   "source": [
    "```python\n",
    "example1 = dict(key1=1, key2=2)\n",
    "\n",
    "example2 = {}\n",
    "example2[\"key1\"] = 1\n",
    "example2[\"key2\"] = 2\n",
    "```"
   ]
  },
  {
   "cell_type": "markdown",
   "metadata": {},
   "source": [
    "### Binary Search Trees\n",
    "- Each element has up to two children (binary)\n",
    "- Children are differentiated as left and right child nodes\n",
    "- In terms of values: *left child node < parent node, right child node > parent node*\n",
    "- It's often used to store key-value pairs\n",
    "- Heaps are a form of BSTs populated top-to-bottom, left-to-right (the root can either be the max or the min) where the parents have to be less-valued than its children (a min heap bubbles up the minimum value up to the top)\n",
    "- Heaps are often used to implement priority queues\n",
    "- BSTs are great for structures that need order while staying fast for insertion, deletion, and accessing. (Balanced trees: O(log(n)), Unbalanced trees: O(n))\n",
    "- For heaps: finding min/max O(1), inserting O(log(n)), search O(n), deleting O(n)"
   ]
  },
  {
   "cell_type": "markdown",
   "metadata": {},
   "source": [
    "![](images/bst.png)"
   ]
  },
  {
   "cell_type": "markdown",
   "metadata": {},
   "source": [
    "## Recursion"
   ]
  },
  {
   "cell_type": "markdown",
   "metadata": {},
   "source": [
    "- Recursive functions need to have a breaking condition (prevents infinite loops and eventual crashes)\n",
    "- Each time the function is called, the old arguments are saved (this is called the __call stack__)"
   ]
  },
  {
   "cell_type": "markdown",
   "metadata": {},
   "source": [
    "```python\n",
    "def countdown(x):\n",
    "    if x == 0:\n",
    "        print(\"Done!\")\n",
    "        return\n",
    "    else:\n",
    "        print(x, \"...\")\n",
    "        countdown(x - 1)\n",
    "```"
   ]
  },
  {
   "cell_type": "markdown",
   "metadata": {},
   "source": [
    "```python\n",
    "def compute_power(number, power):\n",
    "    if power == 0:\n",
    "        return 1\n",
    "    else:\n",
    "        return number * compute_power(number, power - 1)\n",
    "```"
   ]
  },
  {
   "cell_type": "markdown",
   "metadata": {},
   "source": [
    "```python\n",
    "def factorial(number):\n",
    "    if (number == 0):\n",
    "        return 1\n",
    "    else:\n",
    "        return number * factorial(number - 1)\n",
    "```"
   ]
  },
  {
   "cell_type": "markdown",
   "metadata": {},
   "source": [
    "## Sorting"
   ]
  },
  {
   "cell_type": "markdown",
   "metadata": {},
   "source": [
    "Sorting algorithms: bubble sort, merge sort (recursion), and quicksort (recursion)."
   ]
  },
  {
   "cell_type": "markdown",
   "metadata": {},
   "source": [
    "### 1. Bubble Sort\n",
    "\n",
    "- O($n^2$) performance (for loops inside for loops)"
   ]
  },
  {
   "cell_type": "markdown",
   "metadata": {},
   "source": [
    "![](images/bubble-sort.png)"
   ]
  },
  {
   "cell_type": "markdown",
   "metadata": {},
   "source": [
    "```python\n",
    "def bubble_sort(dataset: list):\n",
    "    for i in range(len(dataset)-1, 0, -1):\n",
    "        for j in range(i):\n",
    "            if dataset[j] > dataset[j+1]:\n",
    "                temp = dataset[j]\n",
    "                dataset[j] = dataset[j+1]\n",
    "                dataset[j+1] = temp\n",
    "```                "
   ]
  },
  {
   "cell_type": "markdown",
   "metadata": {},
   "source": [
    "### 2. Merge Sort"
   ]
  },
  {
   "cell_type": "markdown",
   "metadata": {},
   "source": [
    "![](images/merge-sort.png)"
   ]
  },
  {
   "cell_type": "markdown",
   "metadata": {},
   "source": [
    "```python\n",
    "def merge_sort(dataset: list):\n",
    "    \n",
    "    mid = len(dataset) // 2\n",
    "    left = dataset[:mid]\n",
    "    right = dataset[mid:]\n",
    "\n",
    "    # recursively break down the arrays\n",
    "    merge_sort(left)\n",
    "    merge_sort(right)\n",
    "\n",
    "    # now perform the merging\n",
    "    i=0 # index into the left array\n",
    "    j=0 # index into the right array\n",
    "    k=0 # index into merged array\n",
    "\n",
    "    # while both arrays have content\n",
    "    while i < len(left) and j < len(right):\n",
    "        if left[i] < right[j]:\n",
    "            dataset[k] = left[i]\n",
    "            i += 1\n",
    "        else:\n",
    "            dataset[k] = right[j]\n",
    "            j += 1\n",
    "        k += 1\n",
    "\n",
    "    # if the left array still has values, add them\n",
    "    while i < len(left):\n",
    "        dataset[k] = left[i]\n",
    "        i += 1\n",
    "        k += 1\n",
    "\n",
    "    # if the right array still has values, add them\n",
    "    while j < len(right):\n",
    "        dataset[k] = right[j]\n",
    "        j += 1\n",
    "        k += 1\n",
    "```"
   ]
  },
  {
   "cell_type": "markdown",
   "metadata": {},
   "source": [
    "### 3. Quicksort"
   ]
  },
  {
   "cell_type": "markdown",
   "metadata": {},
   "source": [
    "![](images/quick-sort.png)"
   ]
  },
  {
   "cell_type": "markdown",
   "metadata": {},
   "source": [
    "```python\n",
    "\n",
    "def quick_sort(dataset, first, last):\n",
    "    if first < last:\n",
    "        # calculate the split point\n",
    "        pivotIdx = partition(dataset, first, last)\n",
    "\n",
    "        # now sort the two partitions\n",
    "        quick_sort(dataset, first, pivotIdx-1)\n",
    "        quick_sort(dataset, pivotIdx+1, last)\n",
    "\n",
    "\n",
    "def partition(datavalues, first, last):\n",
    "    # choose the first item as the pivot value\n",
    "    pivotvalue = datavalues[first]\n",
    "    # establish the upper and lower indexes\n",
    "    lower = first + 1\n",
    "    upper = last\n",
    "\n",
    "    # start searching for the crossing point\n",
    "    done = False\n",
    "    while not done:\n",
    "        # advance the lower index\n",
    "        while lower <= upper and datavalues[lower] <= pivotvalue:\n",
    "            lower += 1\n",
    "\n",
    "        # advance the upper index\n",
    "        while datavalues[upper] >= pivotvalue and upper >= lower:\n",
    "            upper -= 1\n",
    "\n",
    "        # if the two indexes cross, we have found the split point\n",
    "        if upper < lower:\n",
    "            done = True\n",
    "        else:\n",
    "            # exchange the two values\n",
    "            temp = datavalues[lower]\n",
    "            datavalues[lower] = datavalues[upper]\n",
    "            datavalues[upper] = temp\n",
    "\n",
    "    # when the split point is found, exchange the pivot value\n",
    "    temp = datavalues[first]\n",
    "    datavalues[first] = datavalues[upper]\n",
    "    datavalues[upper] = temp\n",
    "\n",
    "    # return the split point index\n",
    "    return upper\n",
    "```"
   ]
  },
  {
   "cell_type": "markdown",
   "metadata": {},
   "source": [
    "## Searching"
   ]
  },
  {
   "cell_type": "markdown",
   "metadata": {},
   "source": [
    "### Ordered List Search"
   ]
  },
  {
   "cell_type": "markdown",
   "metadata": {},
   "source": [
    "```python\n",
    "def binary_search(item, itemlist):\n",
    "    # get the list size\n",
    "    listsize = len(itemlist) - 1\n",
    "    # start at the two ends of the list\n",
    "    lowerIdx = 0\n",
    "    upperIdx = listsize\n",
    "\n",
    "    while lowerIdx <= upperIdx:\n",
    "        # calculate the middle point\n",
    "        midPt = (lowerIdx + upperIdx)// 2\n",
    "\n",
    "        # if item is found, return the index\n",
    "        if itemlist[midPt] == item:\n",
    "            return midPt\n",
    "        # otherwise get the next midpoint\n",
    "        if item > itemlist[midPt]:\n",
    "            lowerIdx = midPt + 1\n",
    "        else:\n",
    "            upperIdx = midPt - 1\n",
    "\n",
    "    if lowerIdx > upperIdx:\n",
    "        return None\n",
    "```"
   ]
  },
  {
   "cell_type": "markdown",
   "metadata": {},
   "source": [
    "```python\n",
    "offsets = {\n",
    "    \"right\": (0, 1),\n",
    "    \"left\": (0, -1),\n",
    "    \"up\": (-1, 0),\n",
    "    \"down\": (1, 0)\n",
    "}\n",
    "\n",
    "def is_legal_position(maze, pos):\n",
    "    i, j = pos\n",
    "    num_rows = len(maze)\n",
    "    num_cols = len(maze[0])\n",
    "    return 0 <= i < num_rows and 0 <= j < num_cols and maze[i][j] != \"*\"\n",
    "\n",
    "def get_path(predecessors, start, goal):\n",
    "    current = goal\n",
    "    path = []\n",
    "    while current != start:\n",
    "        path.append(current)\n",
    "        current = predecessors[current]\n",
    "    path.append(start)\n",
    "    path.reverse()\n",
    "    return path\n",
    " \n",
    "def depth_first_search(maze, start, goal):\n",
    "    stack = Stack()\n",
    "    stack.push(start)\n",
    "    predecessors = {start: None}\n",
    "\n",
    "    while not stack.is_empty():\n",
    "        current_cell = stack.pop()\n",
    "        if current_cell == goal:\n",
    "            return get_path(predecessors, start, goal)\n",
    "        for direction in [\"up\", \"right\", \"down\", \"left\"]:\n",
    "            row_offset, col_offset = offsets[direction]\n",
    "            neighbour = (current_cell[0] + row_offset, current_cell[1] + col_offset)\n",
    "            if is_legal_pos(maze, neighbour) and neighbour not in predecessors:\n",
    "                stack.push(neighbour)\n",
    "                predecessors[neighbour] = current_cell\n",
    "    return None\n",
    "\n",
    "def breadth_first_search(maze, start, goal):\n",
    "    queue = Queue()\n",
    "    queue.enqueue(start)\n",
    "    predecessors = {start: None}\n",
    "\n",
    "    while not queue.is_empty():\n",
    "        current_cell = queue.dequeue()\n",
    "        if current_cell == goal:\n",
    "            return get_path(predecessors, start, goal)\n",
    "        for direction in [\"up\", \"right\", \"down\", \"left\"]:\n",
    "            row_offset, col_offset = offsets[direction]\n",
    "            neighbour = (current_cell[0] + row_offset, current_cell[1] + col_offset)\n",
    "            if is_legal_pos(maze, neighbour) and neighbour not in predecessors:\n",
    "                queue.enqueue(neighbour)\n",
    "                predecessors[neighbour] = current_cell\n",
    "    return None\n",
    "\n",
    "def heuristic(a, b):\n",
    "    \"\"\"\n",
    "    Calculates the Manhattan distance between two pairs of grid coordinates.\n",
    "    \"\"\"\n",
    "    x1, y1 = a\n",
    "    x2, y2 = b\n",
    "    return abs(x1 - x2) + abs(y1 - y2)\n",
    "\n",
    "\n",
    "def a_star(maze, start, goal):\n",
    "    pq = PriorityQueue()\n",
    "    pq.put(start, 0)\n",
    "    predecessors = {start: None}\n",
    "    g_values = {start: 0}\n",
    "\n",
    "    while not pq.is_empty():\n",
    "        current_cell = pq.get()\n",
    "        if current_cell == goal:\n",
    "            return get_path(predecessors, start, goal)\n",
    "        for direction in [\"up\", \"right\", \"down\", \"left\"]:\n",
    "            row_offset, col_offset = offsets[direction]\n",
    "            neighbour = (current_cell[0] + row_offset, current_cell[1] + col_offset)\n",
    "            if is_legal_pos(maze, neighbour) and neighbour not in g_values:\n",
    "                new_cost = g_values[current_cell] + 1\n",
    "                g_values[neighbour] = new_cost\n",
    "                f_value = new_cost + heuristic(goal, neighbour)\n",
    "                pq.put(neighbour, f_value)\n",
    "                predecessors[neighbour] = current_cell\n",
    "    return None\n",
    "```"
   ]
  }
 ],
 "metadata": {
  "kernelspec": {
   "display_name": "Python 3",
   "language": "python",
   "name": "python3"
  },
  "language_info": {
   "codemirror_mode": {
    "name": "ipython",
    "version": 3
   },
   "file_extension": ".py",
   "mimetype": "text/x-python",
   "name": "python",
   "nbconvert_exporter": "python",
   "pygments_lexer": "ipython3",
   "version": "3.7.3"
  }
 },
 "nbformat": 4,
 "nbformat_minor": 2
}
